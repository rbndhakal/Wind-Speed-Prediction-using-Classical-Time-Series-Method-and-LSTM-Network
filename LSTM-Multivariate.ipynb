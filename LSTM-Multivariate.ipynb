{
 "cells": [
  {
   "cell_type": "code",
   "execution_count": 1,
   "id": "fb65ca3e",
   "metadata": {},
   "outputs": [
    {
     "data": {
      "image/png": "[encoded data removed]",
      "text/plain": [
       "<Figure size 432x288 with 2 Axes>"
      ]
     },
     "metadata": {
      "needs_background": "light"
     },
     "output_type": "display_data"
    }
   ],
   "source": [
    "import pandas as pd\n",
    "import numpy as np\n",
    "import matplotlib.pyplot as plt\n",
    "\n",
    "#Preprocessing data\n",
    "df = pd.read_csv('Wind Dataset KU.csv')\n",
    "\n",
    "df.dropna(inplace=True)\n",
    "\n",
    "import seaborn as sn\n",
    "sn.heatmap(df.corr())\n",
    "\n",
    "training_set = df.iloc[:60180, 1:4].values\n",
    "test_set = df.iloc[60180:, 1:4].values\n",
    "\n",
    "from sklearn.preprocessing import MinMaxScaler\n",
    "\n",
    "sc = MinMaxScaler(feature_range = (0,1))\n",
    "\n",
    "training_set_scaled = sc.fit_transform(training_set)\n",
    "test_set_scaled = sc.fit_transform(test_set)\n",
    "\n",
    "test_set_scaled = test_set_scaled[:, 0:2]\n",
    "\n",
    "X_train = []\n",
    "y_train = []\n",
    "WS = 144\n",
    "\n",
    "for i in range(WS, len(training_set_scaled)):\n",
    "    X_train.append(training_set_scaled[i-WS:i, 0:3])\n",
    "    y_train.append(training_set_scaled[i,2])\n",
    "    \n",
    "X_train, y_train = np.array(X_train), np.array(y_train)\n",
    "\n",
    "X_train = np.reshape(X_train,(X_train.shape[0], X_train.shape[1], 3))"
   ]
  },
  {
   "cell_type": "code",
   "execution_count": 2,
   "id": "07a41f24",
   "metadata": {},
   "outputs": [
    {
     "name": "stdout",
     "output_type": "stream",
     "text": [
      "Epoch 1/80\n",
      "1877/1877 [==============================] - 573s 296ms/step - loss: 0.0021\n",
      "Epoch 2/80\n",
      "1877/1877 [==============================] - 533s 284ms/step - loss: 0.0011\n",
      "Epoch 3/80\n",
      "1877/1877 [==============================] - 531s 283ms/step - loss: 0.0010\n",
      "Epoch 4/80\n",
      "1877/1877 [==============================] - 528s 281ms/step - loss: 0.0010\n",
      "Epoch 5/80\n",
      "1877/1877 [==============================] - 527s 281ms/step - loss: 9.8629e-04\n",
      "Epoch 6/80\n",
      "1877/1877 [==============================] - 522s 278ms/step - loss: 9.8605e-04\n",
      "Epoch 7/80\n",
      "1877/1877 [==============================] - 518s 276ms/step - loss: 9.7013e-04\n",
      "Epoch 8/80\n",
      "1877/1877 [==============================] - 519s 276ms/step - loss: 9.7257e-04\n",
      "Epoch 9/80\n",
      "1877/1877 [==============================] - 518s 276ms/step - loss: 9.5965e-04\n",
      "Epoch 10/80\n",
      "1877/1877 [==============================] - 504s 268ms/step - loss: 9.5702e-04\n",
      "Epoch 11/80\n",
      "1877/1877 [==============================] - 503s 268ms/step - loss: 9.5548e-04\n",
      "Epoch 12/80\n",
      "1877/1877 [==============================] - 499s 266ms/step - loss: 9.4669e-04\n",
      "Epoch 13/80\n",
      "1877/1877 [==============================] - 521s 277ms/step - loss: 9.4918e-04\n",
      "Epoch 14/80\n",
      "1877/1877 [==============================] - 524s 279ms/step - loss: 9.4426e-04\n",
      "Epoch 15/80\n",
      "1877/1877 [==============================] - 517s 275ms/step - loss: 9.4421e-04\n",
      "Epoch 16/80\n",
      "1877/1877 [==============================] - 517s 276ms/step - loss: 9.3508e-04\n",
      "Epoch 17/80\n",
      "1877/1877 [==============================] - 513s 273ms/step - loss: 9.2664e-04\n",
      "Epoch 18/80\n",
      "1877/1877 [==============================] - 516s 275ms/step - loss: 9.3070e-04s - loss: 9.3070e-0\n",
      "Epoch 19/80\n",
      "1877/1877 [==============================] - 500s 266ms/step - loss: 9.2640e-04\n",
      "Epoch 20/80\n",
      "1877/1877 [==============================] - 499s 266ms/step - loss: 9.2563e-04\n",
      "Epoch 21/80\n",
      "1877/1877 [==============================] - 496s 265ms/step - loss: 9.2415e-04\n",
      "Epoch 22/80\n",
      "1877/1877 [==============================] - 498s 265ms/step - loss: 9.3213e-04\n",
      "Epoch 23/80\n",
      "1877/1877 [==============================] - 498s 265ms/step - loss: 9.1954e-04\n",
      "Epoch 24/80\n",
      "1877/1877 [==============================] - 497s 265ms/step - loss: 9.2319e-04\n",
      "Epoch 25/80\n",
      "1877/1877 [==============================] - 316s 168ms/step - loss: 9.1438e-04\n",
      "Epoch 26/80\n",
      "1877/1877 [==============================] - 309s 165ms/step - loss: 9.1233e-04\n",
      "Epoch 27/80\n",
      "1877/1877 [==============================] - 308s 164ms/step - loss: 9.1359e-04\n",
      "Epoch 28/80\n",
      "1877/1877 [==============================] - 308s 164ms/step - loss: 9.0842e-04\n",
      "Epoch 29/80\n",
      "1877/1877 [==============================] - 308s 164ms/step - loss: 9.0718e-04\n",
      "Epoch 30/80\n",
      "1877/1877 [==============================] - 308s 164ms/step - loss: 8.9934e-04\n",
      "Epoch 31/80\n",
      "1877/1877 [==============================] - 308s 164ms/step - loss: 9.1079e-04\n",
      "Epoch 32/80\n",
      "1877/1877 [==============================] - 308s 164ms/step - loss: 9.1651e-04\n",
      "Epoch 33/80\n",
      "1877/1877 [==============================] - 308s 164ms/step - loss: 9.0776e-04\n",
      "Epoch 34/80\n",
      "1877/1877 [==============================] - 307s 164ms/step - loss: 9.0573e-04\n",
      "Epoch 35/80\n",
      "1877/1877 [==============================] - 307s 164ms/step - loss: 9.0814e-04\n",
      "Epoch 36/80\n",
      "1877/1877 [==============================] - 307s 164ms/step - loss: 9.0399e-04\n",
      "Epoch 37/80\n",
      "1877/1877 [==============================] - 307s 163ms/step - loss: 9.0012e-04\n",
      "Epoch 38/80\n",
      "1877/1877 [==============================] - 307s 164ms/step - loss: 8.9651e-04\n",
      "Epoch 39/80\n",
      "1877/1877 [==============================] - 307s 163ms/step - loss: 9.0244e-04\n",
      "Epoch 40/80\n",
      "1877/1877 [==============================] - 307s 163ms/step - loss: 8.9257e-04\n",
      "Epoch 41/80\n",
      "1877/1877 [==============================] - 307s 164ms/step - loss: 9.0018e-04\n",
      "Epoch 42/80\n",
      "1877/1877 [==============================] - 307s 164ms/step - loss: 9.0549e-04\n",
      "Epoch 43/80\n",
      "1877/1877 [==============================] - 307s 164ms/step - loss: 8.9349e-04\n",
      "Epoch 44/80\n",
      "1877/1877 [==============================] - 308s 164ms/step - loss: 8.9772e-04\n",
      "Epoch 45/80\n",
      "1877/1877 [==============================] - 307s 164ms/step - loss: 8.8864e-04\n",
      "Epoch 46/80\n",
      "1877/1877 [==============================] - 307s 164ms/step - loss: 8.9089e-04\n",
      "Epoch 47/80\n",
      "1877/1877 [==============================] - 308s 164ms/step - loss: 8.9298e-04\n",
      "Epoch 48/80\n",
      "1877/1877 [==============================] - 308s 164ms/step - loss: 8.9568e-04\n",
      "Epoch 49/80\n",
      "1877/1877 [==============================] - 309s 164ms/step - loss: 8.9458e-04\n",
      "Epoch 50/80\n",
      "1877/1877 [==============================] - 307s 164ms/step - loss: 8.8226e-04\n",
      "Epoch 51/80\n",
      "1877/1877 [==============================] - 307s 164ms/step - loss: 8.8736e-04\n",
      "Epoch 52/80\n",
      "1877/1877 [==============================] - 309s 164ms/step - loss: 8.8950e-04\n",
      "Epoch 53/80\n",
      "1877/1877 [==============================] - 307s 164ms/step - loss: 8.8745e-04\n",
      "Epoch 54/80\n",
      "1877/1877 [==============================] - 307s 163ms/step - loss: 8.8302e-04\n",
      "Epoch 55/80\n",
      "1877/1877 [==============================] - 306s 163ms/step - loss: 8.9548e-04\n",
      "Epoch 56/80\n",
      "1877/1877 [==============================] - 308s 164ms/step - loss: 8.8456e-04\n",
      "Epoch 57/80\n",
      "1877/1877 [==============================] - 307s 164ms/step - loss: 8.8345e-04\n",
      "Epoch 58/80\n",
      "1877/1877 [==============================] - 307s 164ms/step - loss: 8.8509e-04\n",
      "Epoch 59/80\n",
      "1877/1877 [==============================] - 307s 164ms/step - loss: 8.8608e-04\n",
      "Epoch 60/80\n",
      "1877/1877 [==============================] - 308s 164ms/step - loss: 8.8369e-04\n",
      "Epoch 61/80\n",
      "1877/1877 [==============================] - 307s 164ms/step - loss: 8.8378e-04\n",
      "Epoch 62/80\n",
      "1877/1877 [==============================] - 309s 165ms/step - loss: 8.9069e-04\n",
      "Epoch 63/80\n",
      "1877/1877 [==============================] - 308s 164ms/step - loss: 8.8095e-04\n",
      "Epoch 64/80\n",
      "1877/1877 [==============================] - 308s 164ms/step - loss: 8.8125e-04\n",
      "Epoch 65/80\n",
      "1877/1877 [==============================] - 307s 163ms/step - loss: 8.7209e-04\n",
      "Epoch 66/80\n",
      "1877/1877 [==============================] - 307s 164ms/step - loss: 8.8843e-04\n",
      "Epoch 67/80\n",
      "1877/1877 [==============================] - 307s 163ms/step - loss: 8.7917e-04\n",
      "Epoch 68/80\n",
      "1877/1877 [==============================] - 307s 164ms/step - loss: 8.8237e-04\n",
      "Epoch 69/80\n",
      "1877/1877 [==============================] - 307s 164ms/step - loss: 8.7970e-04\n",
      "Epoch 70/80\n",
      "1877/1877 [==============================] - 309s 165ms/step - loss: 8.8127e-04\n",
      "Epoch 71/80\n",
      "1877/1877 [==============================] - 308s 164ms/step - loss: 8.8467e-04\n",
      "Epoch 72/80\n",
      "1877/1877 [==============================] - 311s 166ms/step - loss: 8.8314e-04\n",
      "Epoch 73/80\n",
      "1877/1877 [==============================] - 310s 165ms/step - loss: 8.7726e-04\n",
      "Epoch 74/80\n",
      "1877/1877 [==============================] - 304s 162ms/step - loss: 8.7363e-04\n",
      "Epoch 75/80\n",
      "1877/1877 [==============================] - 304s 162ms/step - loss: 8.7674e-04\n",
      "Epoch 76/80\n",
      "1877/1877 [==============================] - 308s 164ms/step - loss: 8.8615e-04\n",
      "Epoch 77/80\n",
      "1877/1877 [==============================] - 308s 164ms/step - loss: 8.7383e-04\n",
      "Epoch 78/80\n",
      "1877/1877 [==============================] - 307s 163ms/step - loss: 8.8032e-04\n",
      "Epoch 79/80\n",
      "1877/1877 [==============================] - 307s 163ms/step - loss: 8.7911e-04\n",
      "Epoch 80/80\n",
      "1877/1877 [==============================] - 308s 164ms/step - loss: 8.7722e-04\n"
     ]
    },
    {
     "data": {
      "text/plain": [
       "<keras.callbacks.History at 0x22ffd64c100>"
      ]
     },
     "execution_count": 2,
     "metadata": {},
     "output_type": "execute_result"
    }
   ],
   "source": [
    "# Developing LSTM Model\n",
    "from keras.models import Sequential\n",
    "from keras.layers import LSTM\n",
    "from keras.layers import Dense\n",
    "from keras.layers import Dropout\n",
    "\n",
    "\n",
    "Model = Sequential()\n",
    "\n",
    "Model.add(LSTM(units = 70, return_sequences = True, input_shape = (X_train.shape[1], 3)))\n",
    "Model.add(Dropout(0.2))\n",
    "\n",
    "Model.add(LSTM(units = 70, return_sequences = True))\n",
    "Model.add(Dropout(0.2))\n",
    "\n",
    "Model.add(LSTM(units = 70, return_sequences = True))\n",
    "Model.add(Dropout(0.2))\n",
    "\n",
    "Model.add(LSTM(units = 70))\n",
    "Model.add(Dropout(0.2))\n",
    "\n",
    "Model.add(Dense(units = 1))\n",
    "\n",
    "Model.compile(optimizer = 'adam', loss = 'mean_squared_error')\n",
    "\n",
    "Model.fit(X_train,y_train, epochs = 80, batch_size = 32)\n"
   ]
  },
  {
   "cell_type": "code",
   "execution_count": 3,
   "id": "eff82e64",
   "metadata": {},
   "outputs": [
    {
     "name": "stderr",
     "output_type": "stream",
     "text": [
      "WARNING:absl:Found untraced functions such as lstm_cell_layer_call_and_return_conditional_losses, lstm_cell_layer_call_fn, lstm_cell_1_layer_call_and_return_conditional_losses, lstm_cell_1_layer_call_fn, lstm_cell_2_layer_call_and_return_conditional_losses while saving (showing 5 of 20). These functions will not be directly callable after loading.\n"
     ]
    },
    {
     "name": "stdout",
     "output_type": "stream",
     "text": [
      "INFO:tensorflow:Assets written to: LSTM - Multivariatews\\assets\n"
     ]
    },
    {
     "name": "stderr",
     "output_type": "stream",
     "text": [
      "INFO:tensorflow:Assets written to: LSTM - Multivariatews\\assets\n"
     ]
    }
   ],
   "source": [
    "#saving LSTM Model\n",
    "Model.save('LSTM - Multivariatews')\n"
   ]
  },
  {
   "cell_type": "code",
   "execution_count": 4,
   "id": "c93b023d",
   "metadata": {},
   "outputs": [],
   "source": [
    "#Prediction using LSTM\n",
    "from keras.models import load_model\n",
    "Model = load_model('LSTM - Multivariatews')\n",
    "\n",
    "prediction_test = []\n",
    "\n",
    "Batch_one = training_set_scaled[-144:]\n",
    "Batch_New = Batch_one.reshape((1,144,3))\n",
    "\n",
    "for i in range(288):\n",
    "    \n",
    "    First_pred = Model.predict(Batch_New)[0]\n",
    "    \n",
    "    prediction_test.append(First_pred)\n",
    "    \n",
    "    New_var = test_set_scaled[i,:]\n",
    "    \n",
    "    New_var = New_var.reshape(1,2)\n",
    "    \n",
    "    New_test = np.insert(New_var, 2, [First_pred], axis =1)\n",
    "    \n",
    "    New_test = New_test.reshape(1,1,3)\n",
    "    \n",
    "    Batch_New = np.append(Batch_New[:,1:,:], New_test, axis=1)\n",
    "    \n",
    "prediction_test = np.array(prediction_test)\n",
    "\n",
    "SI = MinMaxScaler(feature_range = (0,1))\n",
    "y_Scale = training_set[:,2:3]\n",
    "SI.fit_transform(y_Scale)\n",
    "\n",
    "predictions = SI.inverse_transform(prediction_test)\n",
    "\n",
    "real_values = test_set[:, 2]"
   ]
  },
  {
   "cell_type": "code",
   "execution_count": 5,
   "id": "b3c2b400",
   "metadata": {},
   "outputs": [
    {
     "data": {
      "image/png": "[encoded data removed]",
      "text/plain": [
       "<Figure size 432x288 with 1 Axes>"
      ]
     },
     "metadata": {
      "needs_background": "light"
     },
     "output_type": "display_data"
    }
   ],
   "source": [
    "#Plotting the result\n",
    "plt.plot(real_values, color = 'red', label = 'Actual Wind Speed')\n",
    "plt.plot(predictions, color = 'blue', label = 'Predicted Wind Speed')\n",
    "plt.title('Wind Speed Prediction')\n",
    "plt.xlabel('Time in mins')\n",
    "plt.ylabel('Wind Speed (m/s)')\n",
    "plt.legend()\n",
    "plt.show()"
   ]
  },
  {
   "cell_type": "code",
   "execution_count": 8,
   "id": "86137339",
   "metadata": {},
   "outputs": [
    {
     "name": "stdout",
     "output_type": "stream",
     "text": [
      "103.42873948891982\n"
     ]
    }
   ],
   "source": [
    "#Performance Measurement of Model\n",
    "import math\n",
    "from sklearn.metrics import mean_squared_error\n",
    "RMSE = math.sqrt(mean_squared_error(real_values,predictions))\n",
    "\n",
    "\n",
    "def mean_absolute_percentage_error (y_true, y_pred):\n",
    "    y_true, y_pred = np.array(y_true), np.array(y_pred)\n",
    "    return np.mean(np.abs((y_true - y_pred)/y_true)) * 100\n",
    "\n",
    "MAPE = mean_absolute_percentage_error(real_values,predictions)\n",
    "\n",
    "tm = real_values.mean()\n",
    "\n",
    "pm = predictions.mean()\n",
    "\n",
    "tstd = real_values.std()\n",
    "\n",
    "pmstd = predictions.std()\n",
    "\n",
    "print(MAPE)"
   ]
  },
  {
   "cell_type": "code",
   "execution_count": 9,
   "id": "dc698550",
   "metadata": {},
   "outputs": [
    {
     "name": "stdout",
     "output_type": "stream",
     "text": [
      "2.240277777777778\n",
      "0.6168217\n"
     ]
    }
   ],
   "source": [
    "print(tm)\n",
    "print(pm)"
   ]
  },
  {
   "cell_type": "code",
   "execution_count": 10,
   "id": "4070a207",
   "metadata": {},
   "outputs": [
    {
     "name": "stdout",
     "output_type": "stream",
     "text": [
      "1.1760526871018604\n",
      "1.3713158\n"
     ]
    }
   ],
   "source": [
    "print(tstd)\n",
    "print(pmstd)"
   ]
  },
  {
   "cell_type": "code",
   "execution_count": null,
   "id": "7245f6bc",
   "metadata": {},
   "outputs": [],
   "source": []
  }
 ],
 "metadata": {
  "kernelspec": {
   "display_name": "Python 3",
   "language": "python",
   "name": "python3"
  },
  "language_info": {
   "codemirror_mode": {
    "name": "ipython",
    "version": 3
   },
   "file_extension": ".py",
   "mimetype": "text/x-python",
   "name": "python",
   "nbconvert_exporter": "python",
   "pygments_lexer": "ipython3",
   "version": "3.8.8"
  }
 },
 "nbformat": 4,
 "nbformat_minor": 5
}
