{
 "cells": [
  {
   "cell_type": "code",
   "execution_count": 11,
   "id": "cfd84688",
   "metadata": {},
   "outputs": [
    {
     "name": "stdout",
     "output_type": "stream",
     "text": [
      "                     Wind Speed\n",
      "Date & Time                    \n",
      "2015-09-14 17:00:00         0.6\n",
      "2015-09-14 17:10:00         0.4\n",
      "2015-09-14 17:20:00         1.7\n",
      "2015-09-14 17:30:00         2.0\n",
      "2015-09-14 17:40:00         1.1\n",
      "...                         ...\n",
      "2016-07-11 14:10:00         1.8\n",
      "2016-07-11 14:20:00         1.5\n",
      "2016-07-11 14:30:00         1.8\n",
      "2016-07-11 14:40:00         1.8\n",
      "2016-07-11 14:50:00         1.5\n",
      "\n",
      "[60468 rows x 1 columns]\n"
     ]
    }
   ],
   "source": [
    "# Preprocessing\n",
    "\n",
    "import numpy as np\n",
    "import pandas as pd\n",
    "import matplotlib.pyplot as plt\n",
    "\n",
    "df = pd.read_csv('Wind Dataset KU.csv', usecols = [0,3], index_col = 0, parse_dates=[0], dayfirst=True)\n",
    "df.dropna(inplace=True)\n",
    "#print(df)\n",
    "\n",
    "training_set = df.iloc[:60180,0:1].values\n",
    "test_set = df.iloc[60180:,0:1].values\n",
    "\n",
    "#scaling the values \n",
    "from sklearn.preprocessing import MinMaxScaler\n",
    "\n",
    "sc = MinMaxScaler(feature_range = (0,1))\n",
    "\n",
    "training_set_scaled = sc.fit_transform(training_set)  \n",
    "test_set_scaled = sc.fit_transform(test_set)\n",
    "\n",
    "X_train = []\n",
    "y_train = []\n",
    "WS = 144\n",
    "\n",
    "for i in range(WS, len(training_set_scaled)):\n",
    "    X_train.append(training_set_scaled[i-WS:i, 0:1])\n",
    "    y_train.append(training_set_scaled[i, 0])\n",
    "    \n",
    "X_train, y_train = np.array(X_train), np.array(y_train)\n",
    "print(df)\n"
   ]
  },
  {
   "cell_type": "code",
   "execution_count": 3,
   "id": "70a1b68f",
   "metadata": {},
   "outputs": [
    {
     "name": "stdout",
     "output_type": "stream",
     "text": [
      "Epoch 1/30\n",
      "1877/1877 [==============================] - 294s 154ms/step - loss: 0.0017\n",
      "Epoch 2/30\n",
      "1877/1877 [==============================] - 454s 242ms/step - loss: 0.0010\n",
      "Epoch 3/30\n",
      "1877/1877 [==============================] - 424s 226ms/step - loss: 0.0010\n",
      "Epoch 4/30\n",
      "1877/1877 [==============================] - 431s 230ms/step - loss: 0.0010\n",
      "Epoch 5/30\n",
      "1877/1877 [==============================] - 431s 230ms/step - loss: 0.0010\n",
      "Epoch 6/30\n",
      "1877/1877 [==============================] - 429s 228ms/step - loss: 9.9110e-04\n",
      "Epoch 7/30\n",
      "1877/1877 [==============================] - 438s 233ms/step - loss: 9.8574e-04\n",
      "Epoch 8/30\n",
      "1877/1877 [==============================] - 437s 233ms/step - loss: 9.8286e-04\n",
      "Epoch 9/30\n",
      "1877/1877 [==============================] - 434s 231ms/step - loss: 9.8422e-04\n",
      "Epoch 10/30\n",
      "1877/1877 [==============================] - 432s 230ms/step - loss: 9.7850e-04\n",
      "Epoch 11/30\n",
      "1877/1877 [==============================] - 432s 230ms/step - loss: 9.6931e-04\n",
      "Epoch 12/30\n",
      "1877/1877 [==============================] - 425s 227ms/step - loss: 9.6325e-04\n",
      "Epoch 13/30\n",
      "1877/1877 [==============================] - 411s 219ms/step - loss: 9.5853e-04\n",
      "Epoch 14/30\n",
      "1877/1877 [==============================] - 410s 219ms/step - loss: 9.6008e-04\n",
      "Epoch 15/30\n",
      "1877/1877 [==============================] - 413s 220ms/step - loss: 9.5933e-04\n",
      "Epoch 16/30\n",
      "1877/1877 [==============================] - 416s 222ms/step - loss: 9.5086e-04\n",
      "Epoch 17/30\n",
      "1877/1877 [==============================] - 441s 235ms/step - loss: 9.5343e-04\n",
      "Epoch 18/30\n",
      "1877/1877 [==============================] - 435s 232ms/step - loss: 9.4894e-04\n",
      "Epoch 19/30\n",
      "1877/1877 [==============================] - 429s 228ms/step - loss: 9.5156e-04\n",
      "Epoch 20/30\n",
      "1877/1877 [==============================] - 425s 227ms/step - loss: 9.5290e-04\n",
      "Epoch 21/30\n",
      "1877/1877 [==============================] - 430s 229ms/step - loss: 9.4954e-04\n",
      "Epoch 22/30\n",
      "1877/1877 [==============================] - 430s 229ms/step - loss: 9.3873e-04\n",
      "Epoch 23/30\n",
      "1877/1877 [==============================] - 423s 225ms/step - loss: 9.4565e-04\n",
      "Epoch 24/30\n",
      "1877/1877 [==============================] - 412s 220ms/step - loss: 9.4670e-04\n",
      "Epoch 25/30\n",
      "1877/1877 [==============================] - 411s 219ms/step - loss: 9.4681e-04\n",
      "Epoch 26/30\n",
      "1877/1877 [==============================] - 410s 218ms/step - loss: 9.4348e-04\n",
      "Epoch 27/30\n",
      "1877/1877 [==============================] - 407s 217ms/step - loss: 9.4274e-04\n",
      "Epoch 28/30\n",
      "1877/1877 [==============================] - 407s 217ms/step - loss: 9.3860e-04\n",
      "Epoch 29/30\n",
      "1877/1877 [==============================] - 408s 217ms/step - loss: 9.4002e-04\n",
      "Epoch 30/30\n",
      "1877/1877 [==============================] - 407s 217ms/step - loss: 9.4408e-04\n"
     ]
    },
    {
     "name": "stderr",
     "output_type": "stream",
     "text": [
      "WARNING:absl:Found untraced functions such as lstm_cell_layer_call_fn, lstm_cell_layer_call_and_return_conditional_losses, lstm_cell_1_layer_call_fn, lstm_cell_1_layer_call_and_return_conditional_losses, lstm_cell_2_layer_call_fn while saving (showing 5 of 20). These functions will not be directly callable after loading.\n"
     ]
    },
    {
     "name": "stdout",
     "output_type": "stream",
     "text": [
      "INFO:tensorflow:Assets written to: LSTM - UniVariatKU\\assets\n"
     ]
    },
    {
     "name": "stderr",
     "output_type": "stream",
     "text": [
      "INFO:tensorflow:Assets written to: LSTM - UniVariatKU\\assets\n"
     ]
    }
   ],
   "source": [
    "# Developing LSTM Model\n",
    "\n",
    "from keras.models import Sequential\n",
    "from keras.layers import LSTM\n",
    "from keras.layers import Dense\n",
    "from keras.layers import Dropout\n",
    "\n",
    "Model_P = Sequential()\n",
    "\n",
    "Model_P.add(LSTM(units = 60, return_sequences = True, input_shape = (X_train.shape[1],1)))\n",
    "Model_P.add(Dropout(0.2))\n",
    "\n",
    "Model_P.add(LSTM(units = 60, return_sequences = True))\n",
    "Model_P.add(Dropout(0.2))\n",
    "\n",
    "Model_P.add(LSTM(units = 60, return_sequences = True))\n",
    "Model_P.add(Dropout(0.2))\n",
    "\n",
    "Model_P.add(LSTM(units = 60))\n",
    "Model_P.add(Dropout(0.2))\n",
    "\n",
    "Model_P.add(Dense(units = 1))\n",
    "\n",
    "Model_P.compile(optimizer = 'adam', loss = 'mean_squared_error')\n",
    "\n",
    "Model_P.fit(X_train, y_train, epochs = 30, batch_size = 32)\n",
    "\n",
    "Model_P.save('LSTM - UniVariatKU')"
   ]
  },
  {
   "cell_type": "code",
   "execution_count": 4,
   "id": "0f37a13d",
   "metadata": {},
   "outputs": [],
   "source": [
    "#Predicting the Wind Speed\n",
    "from keras.models import load_model\n",
    "Model_P = load_model('LSTM - UniVariatKU')\n",
    "\n",
    "prediction_test = []\n",
    "\n",
    "Batch_one = training_set_scaled[-WS:]\n",
    "Batch_New = Batch_one.reshape((1,WS,1))\n",
    "\n",
    "for i in range(288):\n",
    "    \n",
    "    First_Pred = Model_P.predict(Batch_New)[0]\n",
    "    \n",
    "    prediction_test.append(First_Pred)\n",
    "    \n",
    "    Batch_New = np.append(Batch_New[:,1:,:], [[First_Pred]], axis = 1)\n",
    "    \n",
    "\n",
    "prediction_test = np.array(prediction_test)\n",
    "\n",
    "predictions = sc.inverse_transform(prediction_test)"
   ]
  },
  {
   "cell_type": "code",
   "execution_count": 5,
   "id": "b9063e21",
   "metadata": {},
   "outputs": [
    {
     "data": {
      "image/png": "[encoded data removed]",
      "text/plain": [
       "<Figure size 432x288 with 1 Axes>"
      ]
     },
     "metadata": {
      "needs_background": "light"
     },
     "output_type": "display_data"
    }
   ],
   "source": [
    "#Plotting result\n",
    "\n",
    "plt.plot(test_set, color = 'red', label = 'Actual Wind Speed')\n",
    "plt.plot(predictions, color = 'blue', label = 'predicted Wind Speed')\n",
    "plt.title('LSTM - Univariate Forecast')\n",
    "plt.xlabel('Time (mins)')\n",
    "plt.ylabel('Wind Speed (m/s)')\n",
    "plt.legend()\n",
    "plt.show()"
   ]
  },
  {
   "cell_type": "code",
   "execution_count": 6,
   "id": "36ffb512",
   "metadata": {},
   "outputs": [
    {
     "name": "stdout",
     "output_type": "stream",
     "text": [
      "2.25718249780282\n"
     ]
    }
   ],
   "source": [
    "import math\n",
    "\n",
    "from sklearn.metrics import mean_squared_error\n",
    "\n",
    "RMSE = math.sqrt(mean_squared_error(test_set, predictions))\n",
    "\n",
    "print(RMSE)"
   ]
  },
  {
   "cell_type": "code",
   "execution_count": 7,
   "id": "ce6f1def",
   "metadata": {},
   "outputs": [
    {
     "name": "stdout",
     "output_type": "stream",
     "text": [
      "81.6552760719319\n"
     ]
    }
   ],
   "source": [
    "def mean_absolute_percentage_error (y_true, y_pred):\n",
    "    y_true, y_pred = np.array(y_true), np.array(y_pred)\n",
    "    return np.mean(np.abs((y_true - y_pred)/y_true)) * 100\n",
    "\n",
    "MAPE = mean_absolute_percentage_error(test_set,predictions)\n",
    "print(MAPE)"
   ]
  },
  {
   "cell_type": "code",
   "execution_count": 9,
   "id": "3467a5a1",
   "metadata": {},
   "outputs": [
    {
     "name": "stdout",
     "output_type": "stream",
     "text": [
      "2.240277777777778\n",
      "0.3034414\n"
     ]
    }
   ],
   "source": [
    "tm = test_set.mean()\n",
    "\n",
    "pm = predictions.mean()\n",
    "print(tm)\n",
    "print(pm)"
   ]
  },
  {
   "cell_type": "code",
   "execution_count": 10,
   "id": "d6d34a5c",
   "metadata": {},
   "outputs": [
    {
     "name": "stdout",
     "output_type": "stream",
     "text": [
      "1.1760526871018604\n",
      "0.12124328\n"
     ]
    }
   ],
   "source": [
    "tstd = test_set.std()\n",
    "pmstd = predictions.std()\n",
    "print(tstd)\n",
    "print(pmstd)"
   ]
  },
  {
   "cell_type": "code",
   "execution_count": null,
   "id": "e673e368",
   "metadata": {},
   "outputs": [],
   "source": []
  }
 ],
 "metadata": {
  "kernelspec": {
   "display_name": "Python 3",
   "language": "python",
   "name": "python3"
  },
  "language_info": {
   "codemirror_mode": {
    "name": "ipython",
    "version": 3
   },
   "file_extension": ".py",
   "mimetype": "text/x-python",
   "name": "python",
   "nbconvert_exporter": "python",
   "pygments_lexer": "ipython3",
   "version": "3.8.8"
  }
 },
 "nbformat": 4,
 "nbformat_minor": 5
}
